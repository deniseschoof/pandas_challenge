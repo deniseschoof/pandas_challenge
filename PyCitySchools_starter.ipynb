{
 "cells": [
  {
   "cell_type": "code",
   "execution_count": 34,
   "metadata": {},
   "outputs": [
    {
     "output_type": "execute_result",
     "data": {
      "text/plain": [
       "       Student ID       student_name gender grade         school_name  \\\n",
       "0               0       Paul Bradley      M   9th   Huang High School   \n",
       "1               1       Victor Smith      M  12th   Huang High School   \n",
       "2               2    Kevin Rodriguez      M  12th   Huang High School   \n",
       "3               3  Dr. Richard Scott      M  12th   Huang High School   \n",
       "4               4         Bonnie Ray      F   9th   Huang High School   \n",
       "...           ...                ...    ...   ...                 ...   \n",
       "39165       39165       Donna Howard      F  12th  Thomas High School   \n",
       "39166       39166          Dawn Bell      F  10th  Thomas High School   \n",
       "39167       39167     Rebecca Tanner      F   9th  Thomas High School   \n",
       "39168       39168       Desiree Kidd      F  10th  Thomas High School   \n",
       "39169       39169    Carolyn Jackson      F  11th  Thomas High School   \n",
       "\n",
       "       reading_score  math_score  School ID      type  size   budget  \n",
       "0                 66          79          0  District  2917  1910635  \n",
       "1                 94          61          0  District  2917  1910635  \n",
       "2                 90          60          0  District  2917  1910635  \n",
       "3                 67          58          0  District  2917  1910635  \n",
       "4                 97          84          0  District  2917  1910635  \n",
       "...              ...         ...        ...       ...   ...      ...  \n",
       "39165             99          90         14   Charter  1635  1043130  \n",
       "39166             95          70         14   Charter  1635  1043130  \n",
       "39167             73          84         14   Charter  1635  1043130  \n",
       "39168             99          90         14   Charter  1635  1043130  \n",
       "39169             95          75         14   Charter  1635  1043130  \n",
       "\n",
       "[39170 rows x 11 columns]"
      ],
      "text/html": "<div>\n<style scoped>\n    .dataframe tbody tr th:only-of-type {\n        vertical-align: middle;\n    }\n\n    .dataframe tbody tr th {\n        vertical-align: top;\n    }\n\n    .dataframe thead th {\n        text-align: right;\n    }\n</style>\n<table border=\"1\" class=\"dataframe\">\n  <thead>\n    <tr style=\"text-align: right;\">\n      <th></th>\n      <th>Student ID</th>\n      <th>student_name</th>\n      <th>gender</th>\n      <th>grade</th>\n      <th>school_name</th>\n      <th>reading_score</th>\n      <th>math_score</th>\n      <th>School ID</th>\n      <th>type</th>\n      <th>size</th>\n      <th>budget</th>\n    </tr>\n  </thead>\n  <tbody>\n    <tr>\n      <th>0</th>\n      <td>0</td>\n      <td>Paul Bradley</td>\n      <td>M</td>\n      <td>9th</td>\n      <td>Huang High School</td>\n      <td>66</td>\n      <td>79</td>\n      <td>0</td>\n      <td>District</td>\n      <td>2917</td>\n      <td>1910635</td>\n    </tr>\n    <tr>\n      <th>1</th>\n      <td>1</td>\n      <td>Victor Smith</td>\n      <td>M</td>\n      <td>12th</td>\n      <td>Huang High School</td>\n      <td>94</td>\n      <td>61</td>\n      <td>0</td>\n      <td>District</td>\n      <td>2917</td>\n      <td>1910635</td>\n    </tr>\n    <tr>\n      <th>2</th>\n      <td>2</td>\n      <td>Kevin Rodriguez</td>\n      <td>M</td>\n      <td>12th</td>\n      <td>Huang High School</td>\n      <td>90</td>\n      <td>60</td>\n      <td>0</td>\n      <td>District</td>\n      <td>2917</td>\n      <td>1910635</td>\n    </tr>\n    <tr>\n      <th>3</th>\n      <td>3</td>\n      <td>Dr. Richard Scott</td>\n      <td>M</td>\n      <td>12th</td>\n      <td>Huang High School</td>\n      <td>67</td>\n      <td>58</td>\n      <td>0</td>\n      <td>District</td>\n      <td>2917</td>\n      <td>1910635</td>\n    </tr>\n    <tr>\n      <th>4</th>\n      <td>4</td>\n      <td>Bonnie Ray</td>\n      <td>F</td>\n      <td>9th</td>\n      <td>Huang High School</td>\n      <td>97</td>\n      <td>84</td>\n      <td>0</td>\n      <td>District</td>\n      <td>2917</td>\n      <td>1910635</td>\n    </tr>\n    <tr>\n      <th>...</th>\n      <td>...</td>\n      <td>...</td>\n      <td>...</td>\n      <td>...</td>\n      <td>...</td>\n      <td>...</td>\n      <td>...</td>\n      <td>...</td>\n      <td>...</td>\n      <td>...</td>\n      <td>...</td>\n    </tr>\n    <tr>\n      <th>39165</th>\n      <td>39165</td>\n      <td>Donna Howard</td>\n      <td>F</td>\n      <td>12th</td>\n      <td>Thomas High School</td>\n      <td>99</td>\n      <td>90</td>\n      <td>14</td>\n      <td>Charter</td>\n      <td>1635</td>\n      <td>1043130</td>\n    </tr>\n    <tr>\n      <th>39166</th>\n      <td>39166</td>\n      <td>Dawn Bell</td>\n      <td>F</td>\n      <td>10th</td>\n      <td>Thomas High School</td>\n      <td>95</td>\n      <td>70</td>\n      <td>14</td>\n      <td>Charter</td>\n      <td>1635</td>\n      <td>1043130</td>\n    </tr>\n    <tr>\n      <th>39167</th>\n      <td>39167</td>\n      <td>Rebecca Tanner</td>\n      <td>F</td>\n      <td>9th</td>\n      <td>Thomas High School</td>\n      <td>73</td>\n      <td>84</td>\n      <td>14</td>\n      <td>Charter</td>\n      <td>1635</td>\n      <td>1043130</td>\n    </tr>\n    <tr>\n      <th>39168</th>\n      <td>39168</td>\n      <td>Desiree Kidd</td>\n      <td>F</td>\n      <td>10th</td>\n      <td>Thomas High School</td>\n      <td>99</td>\n      <td>90</td>\n      <td>14</td>\n      <td>Charter</td>\n      <td>1635</td>\n      <td>1043130</td>\n    </tr>\n    <tr>\n      <th>39169</th>\n      <td>39169</td>\n      <td>Carolyn Jackson</td>\n      <td>F</td>\n      <td>11th</td>\n      <td>Thomas High School</td>\n      <td>95</td>\n      <td>75</td>\n      <td>14</td>\n      <td>Charter</td>\n      <td>1635</td>\n      <td>1043130</td>\n    </tr>\n  </tbody>\n</table>\n<p>39170 rows × 11 columns</p>\n</div>"
     },
     "metadata": {},
     "execution_count": 34
    }
   ],
   "source": [
    "# Dependencies and Setup\n",
    "import pandas as pd\n",
    "import numpy as np\n",
    "\n",
    "# File to Load (Remember to Change These)\n",
    "school_data_to_load = \"Resources/schools_complete.csv\"\n",
    "student_data_to_load = \"Resources/students_complete.csv\"\n",
    "\n",
    "# Read School and Student Data File and store into Pandas DataFrames\n",
    "school_data = pd.read_csv(school_data_to_load)\n",
    "student_data = pd.read_csv(student_data_to_load)\n",
    "\n",
    "# Combine the data into a single dataset.  \n",
    "school_data_complete = pd.merge(student_data, school_data, how=\"left\", on=[\"school_name\", \"school_name\"])\n",
    "school_data_complete"
   ]
  },
  {
   "cell_type": "markdown",
   "metadata": {},
   "source": [
    "### Note\n",
    "* Instructions have been included for each segment. You do not have to follow them exactly, but they are included to help you think through the steps."
   ]
  },
  {
   "cell_type": "markdown",
   "metadata": {},
   "source": [
    "## District Summary\n",
    "\n",
    "* Calculate the total number of schools\n",
    "\n",
    "* Calculate the total number of students\n",
    "\n",
    "* Calculate the total budget\n",
    "\n",
    "* Calculate the average math score \n",
    "\n",
    "* Calculate the average reading score\n",
    "\n",
    "* Calculate the percentage of students with a passing math score (70 or greater)\n",
    "\n",
    "* Calculate the percentage of students with a passing reading score (70 or greater)\n",
    "\n",
    "* Calculate the percentage of students who passed math **and** reading (% Overall Passing)\n",
    "\n",
    "* Create a dataframe to hold the above results\n",
    "\n",
    "* Optional: give the displayed data cleaner formatting"
   ]
  },
  {
   "cell_type": "code",
   "execution_count": 35,
   "metadata": {},
   "outputs": [
    {
     "output_type": "execute_result",
     "data": {
      "text/plain": [
       "       Student ID       student_name gender grade         school_name  \\\n",
       "0               0       Paul Bradley      M   9th   Huang High School   \n",
       "1               1       Victor Smith      M  12th   Huang High School   \n",
       "2               2    Kevin Rodriguez      M  12th   Huang High School   \n",
       "3               3  Dr. Richard Scott      M  12th   Huang High School   \n",
       "4               4         Bonnie Ray      F   9th   Huang High School   \n",
       "...           ...                ...    ...   ...                 ...   \n",
       "39165       39165       Donna Howard      F  12th  Thomas High School   \n",
       "39166       39166          Dawn Bell      F  10th  Thomas High School   \n",
       "39167       39167     Rebecca Tanner      F   9th  Thomas High School   \n",
       "39168       39168       Desiree Kidd      F  10th  Thomas High School   \n",
       "39169       39169    Carolyn Jackson      F  11th  Thomas High School   \n",
       "\n",
       "       reading_score  math_score  School ID      type  size   budget  \n",
       "0                 66          79          0  District  2917  1910635  \n",
       "1                 94          61          0  District  2917  1910635  \n",
       "2                 90          60          0  District  2917  1910635  \n",
       "3                 67          58          0  District  2917  1910635  \n",
       "4                 97          84          0  District  2917  1910635  \n",
       "...              ...         ...        ...       ...   ...      ...  \n",
       "39165             99          90         14   Charter  1635  1043130  \n",
       "39166             95          70         14   Charter  1635  1043130  \n",
       "39167             73          84         14   Charter  1635  1043130  \n",
       "39168             99          90         14   Charter  1635  1043130  \n",
       "39169             95          75         14   Charter  1635  1043130  \n",
       "\n",
       "[39170 rows x 11 columns]"
      ],
      "text/html": "<div>\n<style scoped>\n    .dataframe tbody tr th:only-of-type {\n        vertical-align: middle;\n    }\n\n    .dataframe tbody tr th {\n        vertical-align: top;\n    }\n\n    .dataframe thead th {\n        text-align: right;\n    }\n</style>\n<table border=\"1\" class=\"dataframe\">\n  <thead>\n    <tr style=\"text-align: right;\">\n      <th></th>\n      <th>Student ID</th>\n      <th>student_name</th>\n      <th>gender</th>\n      <th>grade</th>\n      <th>school_name</th>\n      <th>reading_score</th>\n      <th>math_score</th>\n      <th>School ID</th>\n      <th>type</th>\n      <th>size</th>\n      <th>budget</th>\n    </tr>\n  </thead>\n  <tbody>\n    <tr>\n      <th>0</th>\n      <td>0</td>\n      <td>Paul Bradley</td>\n      <td>M</td>\n      <td>9th</td>\n      <td>Huang High School</td>\n      <td>66</td>\n      <td>79</td>\n      <td>0</td>\n      <td>District</td>\n      <td>2917</td>\n      <td>1910635</td>\n    </tr>\n    <tr>\n      <th>1</th>\n      <td>1</td>\n      <td>Victor Smith</td>\n      <td>M</td>\n      <td>12th</td>\n      <td>Huang High School</td>\n      <td>94</td>\n      <td>61</td>\n      <td>0</td>\n      <td>District</td>\n      <td>2917</td>\n      <td>1910635</td>\n    </tr>\n    <tr>\n      <th>2</th>\n      <td>2</td>\n      <td>Kevin Rodriguez</td>\n      <td>M</td>\n      <td>12th</td>\n      <td>Huang High School</td>\n      <td>90</td>\n      <td>60</td>\n      <td>0</td>\n      <td>District</td>\n      <td>2917</td>\n      <td>1910635</td>\n    </tr>\n    <tr>\n      <th>3</th>\n      <td>3</td>\n      <td>Dr. Richard Scott</td>\n      <td>M</td>\n      <td>12th</td>\n      <td>Huang High School</td>\n      <td>67</td>\n      <td>58</td>\n      <td>0</td>\n      <td>District</td>\n      <td>2917</td>\n      <td>1910635</td>\n    </tr>\n    <tr>\n      <th>4</th>\n      <td>4</td>\n      <td>Bonnie Ray</td>\n      <td>F</td>\n      <td>9th</td>\n      <td>Huang High School</td>\n      <td>97</td>\n      <td>84</td>\n      <td>0</td>\n      <td>District</td>\n      <td>2917</td>\n      <td>1910635</td>\n    </tr>\n    <tr>\n      <th>...</th>\n      <td>...</td>\n      <td>...</td>\n      <td>...</td>\n      <td>...</td>\n      <td>...</td>\n      <td>...</td>\n      <td>...</td>\n      <td>...</td>\n      <td>...</td>\n      <td>...</td>\n      <td>...</td>\n    </tr>\n    <tr>\n      <th>39165</th>\n      <td>39165</td>\n      <td>Donna Howard</td>\n      <td>F</td>\n      <td>12th</td>\n      <td>Thomas High School</td>\n      <td>99</td>\n      <td>90</td>\n      <td>14</td>\n      <td>Charter</td>\n      <td>1635</td>\n      <td>1043130</td>\n    </tr>\n    <tr>\n      <th>39166</th>\n      <td>39166</td>\n      <td>Dawn Bell</td>\n      <td>F</td>\n      <td>10th</td>\n      <td>Thomas High School</td>\n      <td>95</td>\n      <td>70</td>\n      <td>14</td>\n      <td>Charter</td>\n      <td>1635</td>\n      <td>1043130</td>\n    </tr>\n    <tr>\n      <th>39167</th>\n      <td>39167</td>\n      <td>Rebecca Tanner</td>\n      <td>F</td>\n      <td>9th</td>\n      <td>Thomas High School</td>\n      <td>73</td>\n      <td>84</td>\n      <td>14</td>\n      <td>Charter</td>\n      <td>1635</td>\n      <td>1043130</td>\n    </tr>\n    <tr>\n      <th>39168</th>\n      <td>39168</td>\n      <td>Desiree Kidd</td>\n      <td>F</td>\n      <td>10th</td>\n      <td>Thomas High School</td>\n      <td>99</td>\n      <td>90</td>\n      <td>14</td>\n      <td>Charter</td>\n      <td>1635</td>\n      <td>1043130</td>\n    </tr>\n    <tr>\n      <th>39169</th>\n      <td>39169</td>\n      <td>Carolyn Jackson</td>\n      <td>F</td>\n      <td>11th</td>\n      <td>Thomas High School</td>\n      <td>95</td>\n      <td>75</td>\n      <td>14</td>\n      <td>Charter</td>\n      <td>1635</td>\n      <td>1043130</td>\n    </tr>\n  </tbody>\n</table>\n<p>39170 rows × 11 columns</p>\n</div>"
     },
     "metadata": {},
     "execution_count": 35
    }
   ],
   "source": [
    "schools=school_data_complete[\"school_name\"].unique()\n",
    "len(schools)\n",
    "total_students=len(school_data_complete[\"student_name\"])\n",
    "total_budget=school_data_complete[\"budget\"].sum()\n",
    "average_reading_score=school_data_complete[\"reading_score\"].mean()\n",
    "average_math_score=school_data_complete[\"math_score\"].mean()\n",
    "reading_pass=(school_data_complete[\"reading_score\"] >= 70).sum()\n",
    "reading_percentage=(reading_pass/total_students)*100\n",
    "math_pass=(school_data_complete[\"math_score\"] >= 70).sum()\n",
    "math_percentage=(math_pass/total_students)*100\n",
    "overall_pass_df = school_data_complete.loc[(school_data_complete[\"math_score\"] >= 70) & (school_data_complete[\"reading_score\"]  >= 70)]\n",
    "len(overall_pass_df)\n",
    "overall_percentage=(len(overall_pass_df)/total_students)*100\n",
    "overall_percentage\n",
    "school_df=[[\"Total Schools\", len(schools)], [\"Total Students\", total_students], [\"District Budget\", total_budget], [\"Average Reading Score\", average_reading_score], [\"Average Math Score\", average_math_score], [\"Reading 70% or above\", reading_pass], [\"Reading Pass %\", reading_percentage], [\"Math 70% or above\", math_pass], [\"Math Pass %\", math_percentage], [\"Math & Reading 70% or above\", overall_percentage]]\n",
    "school_df\n",
    "df=pd.DataFrame(school_df)\n",
    "pd.options.display.float_format = \"{:,.2f}\".format\n",
    "df\n",
    "school_data_complete"
   ]
  },
  {
   "cell_type": "code",
   "execution_count": 36,
   "metadata": {},
   "outputs": [
    {
     "output_type": "execute_result",
     "data": {
      "text/plain": [
       "                   School School Type  Total Students  Total School Budget  \\\n",
       "0       Huang High School  [District]            2917         1,910,635.00   \n",
       "1    Figueroa High School  [District]            2949         1,884,411.00   \n",
       "2     Shelton High School   [Charter]            1761         1,056,600.00   \n",
       "3   Hernandez High School  [District]            4635         3,022,020.00   \n",
       "4     Griffin High School   [Charter]            1468           917,500.00   \n",
       "5      Wilson High School   [Charter]            2283         1,319,574.00   \n",
       "6     Cabrera High School   [Charter]            1858         1,081,356.00   \n",
       "7      Bailey High School  [District]            4976         3,124,928.00   \n",
       "8      Holden High School   [Charter]             427           248,087.00   \n",
       "9        Pena High School   [Charter]             962           585,858.00   \n",
       "10     Wright High School   [Charter]            1800         1,049,400.00   \n",
       "11  Rodriguez High School  [District]            3999         2,547,363.00   \n",
       "12    Johnson High School  [District]            4761         3,094,650.00   \n",
       "13       Ford High School  [District]            2739         1,763,916.00   \n",
       "14     Thomas High School   [Charter]            1635         1,043,130.00   \n",
       "\n",
       "    Per Student Budget  Average Math Score  Average Reading Score  \\\n",
       "0               655.00               76.63                  81.18   \n",
       "1               639.00               76.71                  81.16   \n",
       "2               600.00               83.36                  83.73   \n",
       "3               652.00               77.29                  80.93   \n",
       "4               625.00               83.35                  83.82   \n",
       "5               578.00               83.27                  83.99   \n",
       "6               582.00               83.06                  83.98   \n",
       "7               628.00               77.05                  81.03   \n",
       "8               581.00               83.80                  83.81   \n",
       "9               609.00               83.84                  84.04   \n",
       "10              583.00               83.68                  83.95   \n",
       "11              637.00               76.84                  80.74   \n",
       "12              650.00               77.07                  80.97   \n",
       "13              644.00               77.10                  80.75   \n",
       "14              638.00               83.42                  83.85   \n",
       "\n",
       "    % Passing Math  % Passing Reading     % Overall Passing  \n",
       "0            65.68              81.32   [53.51388412752828]  \n",
       "1            65.99              80.74   [53.20447609359105]  \n",
       "2            93.87              95.85   [89.89210675752413]  \n",
       "3            66.75              80.86   [53.52750809061489]  \n",
       "4            93.39              97.14   [90.59945504087193]  \n",
       "5            93.87              96.54   [90.58256679807272]  \n",
       "6            94.13              97.04   [91.33476856835307]  \n",
       "7            66.68              81.93   [54.64228295819936]  \n",
       "8            92.51              96.25   [89.22716627634661]  \n",
       "9            94.59              95.95   [90.54054054054053]  \n",
       "10           93.33              96.61   [90.33333333333333]  \n",
       "11           66.37              80.22  [52.988247061765435]  \n",
       "12           66.06              79.30  [54.289886820007304]  \n",
       "13           68.31              81.22   [53.53917244276413]  \n",
       "14           93.27              97.31   [90.94801223241589]  "
      ],
      "text/html": "<div>\n<style scoped>\n    .dataframe tbody tr th:only-of-type {\n        vertical-align: middle;\n    }\n\n    .dataframe tbody tr th {\n        vertical-align: top;\n    }\n\n    .dataframe thead th {\n        text-align: right;\n    }\n</style>\n<table border=\"1\" class=\"dataframe\">\n  <thead>\n    <tr style=\"text-align: right;\">\n      <th></th>\n      <th>School</th>\n      <th>School Type</th>\n      <th>Total Students</th>\n      <th>Total School Budget</th>\n      <th>Per Student Budget</th>\n      <th>Average Math Score</th>\n      <th>Average Reading Score</th>\n      <th>% Passing Math</th>\n      <th>% Passing Reading</th>\n      <th>% Overall Passing</th>\n    </tr>\n  </thead>\n  <tbody>\n    <tr>\n      <th>0</th>\n      <td>Huang High School</td>\n      <td>[District]</td>\n      <td>2917</td>\n      <td>1,910,635.00</td>\n      <td>655.00</td>\n      <td>76.63</td>\n      <td>81.18</td>\n      <td>65.68</td>\n      <td>81.32</td>\n      <td>[53.51388412752828]</td>\n    </tr>\n    <tr>\n      <th>1</th>\n      <td>Figueroa High School</td>\n      <td>[District]</td>\n      <td>2949</td>\n      <td>1,884,411.00</td>\n      <td>639.00</td>\n      <td>76.71</td>\n      <td>81.16</td>\n      <td>65.99</td>\n      <td>80.74</td>\n      <td>[53.20447609359105]</td>\n    </tr>\n    <tr>\n      <th>2</th>\n      <td>Shelton High School</td>\n      <td>[Charter]</td>\n      <td>1761</td>\n      <td>1,056,600.00</td>\n      <td>600.00</td>\n      <td>83.36</td>\n      <td>83.73</td>\n      <td>93.87</td>\n      <td>95.85</td>\n      <td>[89.89210675752413]</td>\n    </tr>\n    <tr>\n      <th>3</th>\n      <td>Hernandez High School</td>\n      <td>[District]</td>\n      <td>4635</td>\n      <td>3,022,020.00</td>\n      <td>652.00</td>\n      <td>77.29</td>\n      <td>80.93</td>\n      <td>66.75</td>\n      <td>80.86</td>\n      <td>[53.52750809061489]</td>\n    </tr>\n    <tr>\n      <th>4</th>\n      <td>Griffin High School</td>\n      <td>[Charter]</td>\n      <td>1468</td>\n      <td>917,500.00</td>\n      <td>625.00</td>\n      <td>83.35</td>\n      <td>83.82</td>\n      <td>93.39</td>\n      <td>97.14</td>\n      <td>[90.59945504087193]</td>\n    </tr>\n    <tr>\n      <th>5</th>\n      <td>Wilson High School</td>\n      <td>[Charter]</td>\n      <td>2283</td>\n      <td>1,319,574.00</td>\n      <td>578.00</td>\n      <td>83.27</td>\n      <td>83.99</td>\n      <td>93.87</td>\n      <td>96.54</td>\n      <td>[90.58256679807272]</td>\n    </tr>\n    <tr>\n      <th>6</th>\n      <td>Cabrera High School</td>\n      <td>[Charter]</td>\n      <td>1858</td>\n      <td>1,081,356.00</td>\n      <td>582.00</td>\n      <td>83.06</td>\n      <td>83.98</td>\n      <td>94.13</td>\n      <td>97.04</td>\n      <td>[91.33476856835307]</td>\n    </tr>\n    <tr>\n      <th>7</th>\n      <td>Bailey High School</td>\n      <td>[District]</td>\n      <td>4976</td>\n      <td>3,124,928.00</td>\n      <td>628.00</td>\n      <td>77.05</td>\n      <td>81.03</td>\n      <td>66.68</td>\n      <td>81.93</td>\n      <td>[54.64228295819936]</td>\n    </tr>\n    <tr>\n      <th>8</th>\n      <td>Holden High School</td>\n      <td>[Charter]</td>\n      <td>427</td>\n      <td>248,087.00</td>\n      <td>581.00</td>\n      <td>83.80</td>\n      <td>83.81</td>\n      <td>92.51</td>\n      <td>96.25</td>\n      <td>[89.22716627634661]</td>\n    </tr>\n    <tr>\n      <th>9</th>\n      <td>Pena High School</td>\n      <td>[Charter]</td>\n      <td>962</td>\n      <td>585,858.00</td>\n      <td>609.00</td>\n      <td>83.84</td>\n      <td>84.04</td>\n      <td>94.59</td>\n      <td>95.95</td>\n      <td>[90.54054054054053]</td>\n    </tr>\n    <tr>\n      <th>10</th>\n      <td>Wright High School</td>\n      <td>[Charter]</td>\n      <td>1800</td>\n      <td>1,049,400.00</td>\n      <td>583.00</td>\n      <td>83.68</td>\n      <td>83.95</td>\n      <td>93.33</td>\n      <td>96.61</td>\n      <td>[90.33333333333333]</td>\n    </tr>\n    <tr>\n      <th>11</th>\n      <td>Rodriguez High School</td>\n      <td>[District]</td>\n      <td>3999</td>\n      <td>2,547,363.00</td>\n      <td>637.00</td>\n      <td>76.84</td>\n      <td>80.74</td>\n      <td>66.37</td>\n      <td>80.22</td>\n      <td>[52.988247061765435]</td>\n    </tr>\n    <tr>\n      <th>12</th>\n      <td>Johnson High School</td>\n      <td>[District]</td>\n      <td>4761</td>\n      <td>3,094,650.00</td>\n      <td>650.00</td>\n      <td>77.07</td>\n      <td>80.97</td>\n      <td>66.06</td>\n      <td>79.30</td>\n      <td>[54.289886820007304]</td>\n    </tr>\n    <tr>\n      <th>13</th>\n      <td>Ford High School</td>\n      <td>[District]</td>\n      <td>2739</td>\n      <td>1,763,916.00</td>\n      <td>644.00</td>\n      <td>77.10</td>\n      <td>80.75</td>\n      <td>68.31</td>\n      <td>81.22</td>\n      <td>[53.53917244276413]</td>\n    </tr>\n    <tr>\n      <th>14</th>\n      <td>Thomas High School</td>\n      <td>[Charter]</td>\n      <td>1635</td>\n      <td>1,043,130.00</td>\n      <td>638.00</td>\n      <td>83.42</td>\n      <td>83.85</td>\n      <td>93.27</td>\n      <td>97.31</td>\n      <td>[90.94801223241589]</td>\n    </tr>\n  </tbody>\n</table>\n</div>"
     },
     "metadata": {},
     "execution_count": 36
    }
   ],
   "source": [
    "## School Sum\n",
    "#schools\n",
    "huang = school_data_complete.loc[(school_data_complete[\"school_name\"] == \"Huang High School\")]\n",
    "figueroa = school_data_complete.loc[(school_data_complete[\"school_name\"] == \"Figueroa High School\")]\n",
    "shelton = school_data_complete.loc[(school_data_complete[\"school_name\"] == \"Shelton High School\")]\n",
    "hernandez = school_data_complete.loc[(school_data_complete[\"school_name\"] == \"Hernandez High School\")]\n",
    "griffin = school_data_complete.loc[(school_data_complete[\"school_name\"] == \"Griffin High School\")]\n",
    "wilson = school_data_complete.loc[(school_data_complete[\"school_name\"] == \"Wilson High School\")]\n",
    "cabrera = school_data_complete.loc[(school_data_complete[\"school_name\"] == \"Cabrera High School\")]\n",
    "bailey = school_data_complete.loc[(school_data_complete[\"school_name\"] == \"Bailey High School\")]\n",
    "holden = school_data_complete.loc[(school_data_complete[\"school_name\"] == \"Holden High School\")]\n",
    "pena = school_data_complete.loc[(school_data_complete[\"school_name\"] == \"Pena High School\")]\n",
    "wright = school_data_complete.loc[(school_data_complete[\"school_name\"] == \"Wright High School\")]\n",
    "rodriguez = school_data_complete.loc[(school_data_complete[\"school_name\"] == \"Rodriguez High School\")]\n",
    "johnson = school_data_complete.loc[(school_data_complete[\"school_name\"] == \"Johnson High School\")]\n",
    "ford = school_data_complete.loc[(school_data_complete[\"school_name\"] == \"Ford High School\")]\n",
    "thomas = school_data_complete.loc[(school_data_complete[\"school_name\"] == \"Thomas High School\")]\n",
    "huang.describe()\n",
    "\n",
    "School = [\"Huang High School\", \"Figueroa High School\", \"Shelton High School\", \"Hernandez High School\", \"Griffin High School\", \"Wilson High School\", \"Cabrera High School\", \"Bailey High School\", \"Holden High School\", \"Pena High School\", \"Wright High School\", \"Rodriguez High School\", \"Johnson High School\", \"Ford High School\", \"Thomas High School\"]\n",
    "\n",
    "School_Type = [(huang[\"type\"]).unique(), (figueroa[\"type\"]).unique(), (shelton[\"type\"]).unique(), (hernandez[\"type\"]).unique(), (griffin[\"type\"]).unique(), (wilson[\"type\"]).unique(), (cabrera[\"type\"]).unique(), (bailey[\"type\"]).unique(), (holden[\"type\"]).unique(), (pena[\"type\"]).unique(), (wright[\"type\"]).unique(), (rodriguez[\"type\"]).unique(), (johnson[\"type\"]).unique(), (ford[\"type\"]).unique(), (thomas[\"type\"]).unique()]\n",
    "\n",
    "Total_Students =[len(huang[\"Student ID\"]), len(figueroa[\"Student ID\"]), len(shelton[\"Student ID\"]), len(hernandez[\"Student ID\"]), len(griffin[\"Student ID\"]), len(wilson[\"Student ID\"]), len(cabrera[\"Student ID\"]), len(bailey[\"Student ID\"]), len(holden[\"Student ID\"]), len(pena[\"Student ID\"]), len(wright[\"Student ID\"]), len(rodriguez[\"Student ID\"]), len(johnson[\"Student ID\"]), len(ford[\"Student ID\"]), len(thomas[\"Student ID\"])]\n",
    "\n",
    "Total_Budget = [(huang[\"budget\"].mean()), (figueroa[\"budget\"].mean()), (shelton[\"budget\"].mean()), (hernandez[\"budget\"].mean()), (griffin[\"budget\"].mean()), (wilson[\"budget\"].mean()), (cabrera[\"budget\"].mean()), (bailey[\"budget\"].mean()), (holden[\"budget\"].mean()), (pena[\"budget\"].mean()), (wright[\"budget\"].mean()), (rodriguez[\"budget\"].mean()), (johnson[\"budget\"].mean()), (ford[\"budget\"].mean()), (thomas[\"budget\"].mean())]\n",
    "\n",
    "Budget_per_student =[(huang[\"budget\"].mean())/len(huang[\"Student ID\"]), (figueroa[\"budget\"].mean())/len(figueroa[\"Student ID\"]), (shelton[\"budget\"].mean())/len(shelton[\"Student ID\"]), (hernandez[\"budget\"].mean())/len(hernandez[\"Student ID\"]), (griffin[\"budget\"].mean())/len(griffin[\"Student ID\"]), (wilson[\"budget\"].mean())/len(wilson[\"Student ID\"]), (cabrera[\"budget\"].mean())/len(cabrera[\"Student ID\"]), (bailey[\"budget\"].mean())/len(bailey[\"Student ID\"]), (holden[\"budget\"].mean())/len(holden[\"Student ID\"]), (pena[\"budget\"].mean())/len(pena[\"Student ID\"]), (wright[\"budget\"].mean())/len(wright[\"Student ID\"]), (rodriguez[\"budget\"].mean())/len(rodriguez[\"Student ID\"]), (johnson[\"budget\"].mean())/len(johnson[\"Student ID\"]), (ford[\"budget\"].mean())/len(ford[\"Student ID\"]), (thomas[\"budget\"].mean())/len(thomas[\"Student ID\"])]\n",
    "\n",
    "Average_Math_Score =[(huang[\"math_score\"]).mean(), (figueroa[\"math_score\"]).mean(), (shelton[\"math_score\"]).mean(), (hernandez[\"math_score\"]).mean(), (griffin[\"math_score\"]).mean(), (wilson[\"math_score\"]).mean(), (cabrera[\"math_score\"]).mean(), (bailey[\"math_score\"]).mean(), (holden[\"math_score\"]).mean(), (pena[\"math_score\"]).mean(), (wright[\"math_score\"]).mean(), (rodriguez[\"math_score\"]).mean(), (johnson[\"math_score\"]).mean(), (ford[\"math_score\"]).mean(), (thomas[\"math_score\"]).mean()]\n",
    "\n",
    "Average_Reading_Score =[(huang[\"reading_score\"]).mean(), (figueroa[\"reading_score\"]).mean(), (shelton[\"reading_score\"]).mean(), (hernandez[\"reading_score\"]).mean(), (griffin[\"reading_score\"]).mean(), (wilson[\"reading_score\"]).mean(), (cabrera[\"reading_score\"]).mean(), (bailey[\"reading_score\"]).mean(), (holden[\"reading_score\"]).mean(), (pena[\"reading_score\"]).mean(), (wright[\"reading_score\"]).mean(), (rodriguez[\"reading_score\"]).mean(), (johnson[\"reading_score\"]).mean(), (ford[\"reading_score\"]).mean(), (thomas[\"reading_score\"]).mean()]\n",
    "\n",
    "Percent_Passing_Math = [((huang[\"math_score\"] >= 70).sum())/len(huang[\"Student ID\"])*100, ((figueroa[\"math_score\"] >= 70).sum())/len(figueroa[\"Student ID\"])*100, ((shelton[\"math_score\"] >= 70).sum())/len(shelton[\"Student ID\"])*100, ((hernandez[\"math_score\"] >= 70).sum())/len(hernandez[\"Student ID\"])*100, ((griffin[\"math_score\"] >= 70).sum())/len(griffin[\"Student ID\"])*100, ((wilson[\"math_score\"] >= 70).sum())/len(wilson[\"Student ID\"])*100, ((cabrera[\"math_score\"] >= 70).sum())/len(cabrera[\"Student ID\"])*100, ((bailey[\"math_score\"] >= 70).sum())/len(bailey[\"Student ID\"])*100, ((holden[\"math_score\"] >= 70).sum())/len(holden[\"Student ID\"])*100, ((pena[\"math_score\"] >= 70).sum())/len(pena[\"Student ID\"])*100, ((wright[\"math_score\"] >= 70).sum())/len(wright[\"Student ID\"])*100, ((rodriguez[\"math_score\"] >= 70).sum())/len(rodriguez[\"Student ID\"])*100, ((johnson[\"math_score\"] >= 70).sum())/len(johnson[\"Student ID\"])*100, ((ford[\"math_score\"] >= 70).sum())/len(ford[\"Student ID\"])*100, ((thomas[\"math_score\"] >= 70).sum())/len(thomas[\"Student ID\"])*100]\n",
    "\n",
    "Percent_Passing_Reading = [((huang[\"reading_score\"] >= 70).sum())/len(huang[\"Student ID\"])*100, ((figueroa[\"reading_score\"] >= 70).sum())/len(figueroa[\"Student ID\"])*100, ((shelton[\"reading_score\"] >= 70).sum())/len(shelton[\"Student ID\"])*100, ((hernandez[\"reading_score\"] >= 70).sum())/len(hernandez[\"Student ID\"])*100, ((griffin[\"reading_score\"] >= 70).sum())/len(griffin[\"Student ID\"])*100, ((wilson[\"reading_score\"] >= 70).sum())/len(wilson[\"Student ID\"])*100, ((cabrera[\"reading_score\"] >= 70).sum())/len(cabrera[\"Student ID\"])*100, ((bailey[\"reading_score\"] >= 70).sum())/len(bailey[\"Student ID\"])*100, ((holden[\"reading_score\"] >= 70).sum())/len(holden[\"Student ID\"])*100, ((pena[\"reading_score\"] >= 70).sum())/len(pena[\"Student ID\"])*100, ((wright[\"reading_score\"] >= 70).sum())/len(wright[\"Student ID\"])*100, ((rodriguez[\"reading_score\"] >= 70).sum())/len(rodriguez[\"Student ID\"])*100, ((ford[\"reading_score\"] >= 70).sum())/len(ford[\"Student ID\"])*100, ((johnson[\"reading_score\"] >= 70).sum())/len(johnson[\"Student ID\"])*100, ((thomas[\"reading_score\"] >= 70).sum())/len(thomas[\"Student ID\"])*100]\n",
    "\n",
    "# test= [(len(huang.loc[(huang[\"math_score\"] >= 70) & (huang[\"reading_score\"]  >= 70)])/len(huang[\"Student ID\"]))*100]\n",
    "\n",
    "Overall_Passing= [(len(huang.loc[(huang[\"math_score\"] >= 70) & (huang[\"reading_score\"]  >= 70)])/len(huang[\"Student ID\"]))*100], [(len(figueroa.loc[(figueroa[\"math_score\"] >= 70) & (figueroa[\"reading_score\"]  >= 70)])/len(figueroa[\"Student ID\"]))*100], [(len(shelton.loc[(shelton[\"math_score\"] >= 70) & (shelton[\"reading_score\"]  >= 70)])/len(shelton[\"Student ID\"]))*100], [(len(hernandez.loc[(hernandez[\"math_score\"] >= 70) & (hernandez[\"reading_score\"]  >= 70)])/len(hernandez[\"Student ID\"]))*100], [(len(griffin.loc[(griffin[\"math_score\"] >= 70) & (griffin[\"reading_score\"]  >= 70)])/len(griffin[\"Student ID\"]))*100], [(len(wilson.loc[(wilson[\"math_score\"] >= 70) & (wilson[\"reading_score\"]  >= 70)])/len(wilson[\"Student ID\"]))*100], [(len(cabrera.loc[(cabrera[\"math_score\"] >= 70) & (cabrera[\"reading_score\"]  >= 70)])/len(cabrera[\"Student ID\"]))*100], [(len(bailey.loc[(bailey[\"math_score\"] >= 70) & (bailey[\"reading_score\"]  >= 70)])/len(bailey[\"Student ID\"]))*100], [(len(holden.loc[(holden[\"math_score\"] >= 70) & (holden[\"reading_score\"]  >= 70)])/len(holden[\"Student ID\"]))*100], [(len(pena.loc[(pena[\"math_score\"] >= 70) & (pena[\"reading_score\"]  >= 70)])/len(pena[\"Student ID\"]))*100], [(len(wright.loc[(wright[\"math_score\"] >= 70) & (wright[\"reading_score\"]  >= 70)])/len(wright[\"Student ID\"]))*100], [(len(rodriguez.loc[(rodriguez[\"math_score\"] >= 70) & (rodriguez[\"reading_score\"]  >= 70)])/len(rodriguez[\"Student ID\"]))*100], [(len(ford.loc[(ford[\"math_score\"] >= 70) & (ford[\"reading_score\"]  >= 70)])/len(ford[\"Student ID\"]))*100], [(len(johnson.loc[(johnson[\"math_score\"] >= 70) & (johnson[\"reading_score\"]  >= 70)])/len(johnson[\"Student ID\"]))*100], [(len(thomas.loc[(thomas[\"math_score\"] >= 70) & (thomas[\"reading_score\"]  >= 70)])/len(thomas[\"Student ID\"]))*100]\n",
    "\n",
    "school_tuples=zip(School, School_Type, Total_Students, Total_Budget, Budget_per_student, Average_Math_Score, Average_Reading_Score, Percent_Passing_Math, Percent_Passing_Reading, Overall_Passing)\n",
    "\n",
    "school_overview_df = pd.DataFrame (school_tuples, columns= [\"School\", \"School Type\", \"Total Students\", \"Total School Budget\", \"Per Student Budget\", \"Average Math Score\", \"Average Reading Score\", \"% Passing Math\", \"% Passing Reading\", \"% Overall Passing\"])\n",
    "\n",
    "pd.options.display.float_format = \"{:,.2f}\".format\n",
    "school_overview_df"
   ]
  },
  {
   "cell_type": "markdown",
   "metadata": {},
   "source": [
    "* Create an overview table that summarizes key metrics about each school, including:\n",
    "  * School Name\n",
    "  * School Type\n",
    "  * Total Students\n",
    "  * Total School Budget\n",
    "  * Per Student Budget\n",
    "  * Average Math Score\n",
    "  * Average Reading Score\n",
    "  * % Passing Math\n",
    "  * % Passing Reading\n",
    "  * % Overall Passing (The percentage of students that passed math **and** reading.)\n",
    "  \n",
    "* Create a dataframe to hold the above results"
   ]
  },
  {
   "cell_type": "code",
   "execution_count": 37,
   "metadata": {},
   "outputs": [
    {
     "output_type": "execute_result",
     "data": {
      "text/plain": [
       "0   nan\n",
       "dtype: float64"
      ]
     },
     "metadata": {},
     "execution_count": 37
    }
   ],
   "source": [
    "next\n",
    "s = pd.Series([\"% Overall Passing\"])\n",
    "pd.to_numeric(s, errors='coerce')\n",
    "\n"
   ]
  },
  {
   "cell_type": "markdown",
   "metadata": {},
   "source": [
    "## Top Performing Schools (By % Overall Passing)"
   ]
  },
  {
   "cell_type": "markdown",
   "metadata": {},
   "source": [
    "* Sort and display the top five performing schools by % overall passing."
   ]
  },
  {
   "cell_type": "code",
   "execution_count": 38,
   "metadata": {
    "scrolled": true
   },
   "outputs": [
    {
     "output_type": "execute_result",
     "data": {
      "text/plain": [
       "                 School School Type  Total Students  Total School Budget  \\\n",
       "6   Cabrera High School   [Charter]            1858         1,081,356.00   \n",
       "14   Thomas High School   [Charter]            1635         1,043,130.00   \n",
       "4   Griffin High School   [Charter]            1468           917,500.00   \n",
       "5    Wilson High School   [Charter]            2283         1,319,574.00   \n",
       "9      Pena High School   [Charter]             962           585,858.00   \n",
       "\n",
       "    Per Student Budget  Average Math Score  Average Reading Score  \\\n",
       "6               582.00               83.06                  83.98   \n",
       "14              638.00               83.42                  83.85   \n",
       "4               625.00               83.35                  83.82   \n",
       "5               578.00               83.27                  83.99   \n",
       "9               609.00               83.84                  84.04   \n",
       "\n",
       "    % Passing Math  % Passing Reading    % Overall Passing  \n",
       "6            94.13              97.04  [91.33476856835307]  \n",
       "14           93.27              97.31  [90.94801223241589]  \n",
       "4            93.39              97.14  [90.59945504087193]  \n",
       "5            93.87              96.54  [90.58256679807272]  \n",
       "9            94.59              95.95  [90.54054054054053]  "
      ],
      "text/html": "<div>\n<style scoped>\n    .dataframe tbody tr th:only-of-type {\n        vertical-align: middle;\n    }\n\n    .dataframe tbody tr th {\n        vertical-align: top;\n    }\n\n    .dataframe thead th {\n        text-align: right;\n    }\n</style>\n<table border=\"1\" class=\"dataframe\">\n  <thead>\n    <tr style=\"text-align: right;\">\n      <th></th>\n      <th>School</th>\n      <th>School Type</th>\n      <th>Total Students</th>\n      <th>Total School Budget</th>\n      <th>Per Student Budget</th>\n      <th>Average Math Score</th>\n      <th>Average Reading Score</th>\n      <th>% Passing Math</th>\n      <th>% Passing Reading</th>\n      <th>% Overall Passing</th>\n    </tr>\n  </thead>\n  <tbody>\n    <tr>\n      <th>6</th>\n      <td>Cabrera High School</td>\n      <td>[Charter]</td>\n      <td>1858</td>\n      <td>1,081,356.00</td>\n      <td>582.00</td>\n      <td>83.06</td>\n      <td>83.98</td>\n      <td>94.13</td>\n      <td>97.04</td>\n      <td>[91.33476856835307]</td>\n    </tr>\n    <tr>\n      <th>14</th>\n      <td>Thomas High School</td>\n      <td>[Charter]</td>\n      <td>1635</td>\n      <td>1,043,130.00</td>\n      <td>638.00</td>\n      <td>83.42</td>\n      <td>83.85</td>\n      <td>93.27</td>\n      <td>97.31</td>\n      <td>[90.94801223241589]</td>\n    </tr>\n    <tr>\n      <th>4</th>\n      <td>Griffin High School</td>\n      <td>[Charter]</td>\n      <td>1468</td>\n      <td>917,500.00</td>\n      <td>625.00</td>\n      <td>83.35</td>\n      <td>83.82</td>\n      <td>93.39</td>\n      <td>97.14</td>\n      <td>[90.59945504087193]</td>\n    </tr>\n    <tr>\n      <th>5</th>\n      <td>Wilson High School</td>\n      <td>[Charter]</td>\n      <td>2283</td>\n      <td>1,319,574.00</td>\n      <td>578.00</td>\n      <td>83.27</td>\n      <td>83.99</td>\n      <td>93.87</td>\n      <td>96.54</td>\n      <td>[90.58256679807272]</td>\n    </tr>\n    <tr>\n      <th>9</th>\n      <td>Pena High School</td>\n      <td>[Charter]</td>\n      <td>962</td>\n      <td>585,858.00</td>\n      <td>609.00</td>\n      <td>83.84</td>\n      <td>84.04</td>\n      <td>94.59</td>\n      <td>95.95</td>\n      <td>[90.54054054054053]</td>\n    </tr>\n  </tbody>\n</table>\n</div>"
     },
     "metadata": {},
     "execution_count": 38
    }
   ],
   "source": [
    "my_groupby=school_overview_df[\"% Overall Passing\"]\n",
    "overall_passing_df = school_overview_df.sort_values([\"% Overall Passing\"], ascending=False)\n",
    "overall_passing_df.head()"
   ]
  },
  {
   "cell_type": "markdown",
   "metadata": {},
   "source": [
    "## Bottom Performing Schools (By % Overall Passing)"
   ]
  },
  {
   "cell_type": "markdown",
   "metadata": {},
   "source": [
    "* Sort and display the five worst-performing schools by % overall passing."
   ]
  },
  {
   "cell_type": "code",
   "execution_count": 39,
   "metadata": {},
   "outputs": [
    {
     "output_type": "execute_result",
     "data": {
      "text/plain": [
       "                   School School Type  Total Students  Total School Budget  \\\n",
       "11  Rodriguez High School  [District]            3999         2,547,363.00   \n",
       "1    Figueroa High School  [District]            2949         1,884,411.00   \n",
       "0       Huang High School  [District]            2917         1,910,635.00   \n",
       "3   Hernandez High School  [District]            4635         3,022,020.00   \n",
       "13       Ford High School  [District]            2739         1,763,916.00   \n",
       "\n",
       "    Per Student Budget  Average Math Score  Average Reading Score  \\\n",
       "11              637.00               76.84                  80.74   \n",
       "1               639.00               76.71                  81.16   \n",
       "0               655.00               76.63                  81.18   \n",
       "3               652.00               77.29                  80.93   \n",
       "13              644.00               77.10                  80.75   \n",
       "\n",
       "    % Passing Math  % Passing Reading     % Overall Passing  \n",
       "11           66.37              80.22  [52.988247061765435]  \n",
       "1            65.99              80.74   [53.20447609359105]  \n",
       "0            65.68              81.32   [53.51388412752828]  \n",
       "3            66.75              80.86   [53.52750809061489]  \n",
       "13           68.31              81.22   [53.53917244276413]  "
      ],
      "text/html": "<div>\n<style scoped>\n    .dataframe tbody tr th:only-of-type {\n        vertical-align: middle;\n    }\n\n    .dataframe tbody tr th {\n        vertical-align: top;\n    }\n\n    .dataframe thead th {\n        text-align: right;\n    }\n</style>\n<table border=\"1\" class=\"dataframe\">\n  <thead>\n    <tr style=\"text-align: right;\">\n      <th></th>\n      <th>School</th>\n      <th>School Type</th>\n      <th>Total Students</th>\n      <th>Total School Budget</th>\n      <th>Per Student Budget</th>\n      <th>Average Math Score</th>\n      <th>Average Reading Score</th>\n      <th>% Passing Math</th>\n      <th>% Passing Reading</th>\n      <th>% Overall Passing</th>\n    </tr>\n  </thead>\n  <tbody>\n    <tr>\n      <th>11</th>\n      <td>Rodriguez High School</td>\n      <td>[District]</td>\n      <td>3999</td>\n      <td>2,547,363.00</td>\n      <td>637.00</td>\n      <td>76.84</td>\n      <td>80.74</td>\n      <td>66.37</td>\n      <td>80.22</td>\n      <td>[52.988247061765435]</td>\n    </tr>\n    <tr>\n      <th>1</th>\n      <td>Figueroa High School</td>\n      <td>[District]</td>\n      <td>2949</td>\n      <td>1,884,411.00</td>\n      <td>639.00</td>\n      <td>76.71</td>\n      <td>81.16</td>\n      <td>65.99</td>\n      <td>80.74</td>\n      <td>[53.20447609359105]</td>\n    </tr>\n    <tr>\n      <th>0</th>\n      <td>Huang High School</td>\n      <td>[District]</td>\n      <td>2917</td>\n      <td>1,910,635.00</td>\n      <td>655.00</td>\n      <td>76.63</td>\n      <td>81.18</td>\n      <td>65.68</td>\n      <td>81.32</td>\n      <td>[53.51388412752828]</td>\n    </tr>\n    <tr>\n      <th>3</th>\n      <td>Hernandez High School</td>\n      <td>[District]</td>\n      <td>4635</td>\n      <td>3,022,020.00</td>\n      <td>652.00</td>\n      <td>77.29</td>\n      <td>80.93</td>\n      <td>66.75</td>\n      <td>80.86</td>\n      <td>[53.52750809061489]</td>\n    </tr>\n    <tr>\n      <th>13</th>\n      <td>Ford High School</td>\n      <td>[District]</td>\n      <td>2739</td>\n      <td>1,763,916.00</td>\n      <td>644.00</td>\n      <td>77.10</td>\n      <td>80.75</td>\n      <td>68.31</td>\n      <td>81.22</td>\n      <td>[53.53917244276413]</td>\n    </tr>\n  </tbody>\n</table>\n</div>"
     },
     "metadata": {},
     "execution_count": 39
    }
   ],
   "source": [
    "lowest_performers_df = school_overview_df.sort_values([\"% Overall Passing\"], ascending=True)\n",
    "lowest_performers_df.head()"
   ]
  },
  {
   "cell_type": "markdown",
   "metadata": {
    "collapsed": true
   },
   "source": [
    "## Math Scores by Grade"
   ]
  },
  {
   "cell_type": "markdown",
   "metadata": {},
   "source": [
    "* Create a table that lists the average Reading Score for students of each grade level (9th, 10th, 11th, 12th) at each school.\n",
    "\n",
    "  * Create a pandas series for each grade. Hint: use a conditional statement.\n",
    "  \n",
    "  * Group each series by school\n",
    "  \n",
    "  * Combine the series into a dataframe\n",
    "  \n",
    "  * Optional: give the displayed data cleaner formatting"
   ]
  },
  {
   "cell_type": "code",
   "execution_count": 40,
   "metadata": {},
   "outputs": [
    {
     "output_type": "execute_result",
     "data": {
      "text/plain": [
       "                       9th Grade  10th Grade  11th Grade  12th Grade\n",
       "school_name                                                         \n",
       "Bailey High School         77.08       77.00       77.52       76.49\n",
       "Cabrera High School        83.09       83.15       82.77       83.28\n",
       "Figueroa High School       76.40       76.54       76.88       77.15\n",
       "Ford High School           77.36       77.67       76.92       76.18\n",
       "Griffin High School        82.04       84.23       83.84       83.36\n",
       "Hernandez High School      77.44       77.34       77.14       77.19\n",
       "Holden High School         83.79       83.43       85.00       82.86\n",
       "Huang High School          77.03       75.91       76.45       77.23\n",
       "Johnson High School        77.19       76.69       77.49       76.86\n",
       "Pena High School           83.63       83.37       84.33       84.12\n",
       "Rodriguez High School      76.86       76.61       76.40       77.69\n",
       "Shelton High School        83.42       82.92       83.38       83.78\n",
       "Thomas High School         83.59       83.09       83.50       83.50\n",
       "Wilson High School         83.09       83.72       83.20       83.04\n",
       "Wright High School         83.26       84.01       83.84       83.64"
      ],
      "text/html": "<div>\n<style scoped>\n    .dataframe tbody tr th:only-of-type {\n        vertical-align: middle;\n    }\n\n    .dataframe tbody tr th {\n        vertical-align: top;\n    }\n\n    .dataframe thead th {\n        text-align: right;\n    }\n</style>\n<table border=\"1\" class=\"dataframe\">\n  <thead>\n    <tr style=\"text-align: right;\">\n      <th></th>\n      <th>9th Grade</th>\n      <th>10th Grade</th>\n      <th>11th Grade</th>\n      <th>12th Grade</th>\n    </tr>\n    <tr>\n      <th>school_name</th>\n      <th></th>\n      <th></th>\n      <th></th>\n      <th></th>\n    </tr>\n  </thead>\n  <tbody>\n    <tr>\n      <th>Bailey High School</th>\n      <td>77.08</td>\n      <td>77.00</td>\n      <td>77.52</td>\n      <td>76.49</td>\n    </tr>\n    <tr>\n      <th>Cabrera High School</th>\n      <td>83.09</td>\n      <td>83.15</td>\n      <td>82.77</td>\n      <td>83.28</td>\n    </tr>\n    <tr>\n      <th>Figueroa High School</th>\n      <td>76.40</td>\n      <td>76.54</td>\n      <td>76.88</td>\n      <td>77.15</td>\n    </tr>\n    <tr>\n      <th>Ford High School</th>\n      <td>77.36</td>\n      <td>77.67</td>\n      <td>76.92</td>\n      <td>76.18</td>\n    </tr>\n    <tr>\n      <th>Griffin High School</th>\n      <td>82.04</td>\n      <td>84.23</td>\n      <td>83.84</td>\n      <td>83.36</td>\n    </tr>\n    <tr>\n      <th>Hernandez High School</th>\n      <td>77.44</td>\n      <td>77.34</td>\n      <td>77.14</td>\n      <td>77.19</td>\n    </tr>\n    <tr>\n      <th>Holden High School</th>\n      <td>83.79</td>\n      <td>83.43</td>\n      <td>85.00</td>\n      <td>82.86</td>\n    </tr>\n    <tr>\n      <th>Huang High School</th>\n      <td>77.03</td>\n      <td>75.91</td>\n      <td>76.45</td>\n      <td>77.23</td>\n    </tr>\n    <tr>\n      <th>Johnson High School</th>\n      <td>77.19</td>\n      <td>76.69</td>\n      <td>77.49</td>\n      <td>76.86</td>\n    </tr>\n    <tr>\n      <th>Pena High School</th>\n      <td>83.63</td>\n      <td>83.37</td>\n      <td>84.33</td>\n      <td>84.12</td>\n    </tr>\n    <tr>\n      <th>Rodriguez High School</th>\n      <td>76.86</td>\n      <td>76.61</td>\n      <td>76.40</td>\n      <td>77.69</td>\n    </tr>\n    <tr>\n      <th>Shelton High School</th>\n      <td>83.42</td>\n      <td>82.92</td>\n      <td>83.38</td>\n      <td>83.78</td>\n    </tr>\n    <tr>\n      <th>Thomas High School</th>\n      <td>83.59</td>\n      <td>83.09</td>\n      <td>83.50</td>\n      <td>83.50</td>\n    </tr>\n    <tr>\n      <th>Wilson High School</th>\n      <td>83.09</td>\n      <td>83.72</td>\n      <td>83.20</td>\n      <td>83.04</td>\n    </tr>\n    <tr>\n      <th>Wright High School</th>\n      <td>83.26</td>\n      <td>84.01</td>\n      <td>83.84</td>\n      <td>83.64</td>\n    </tr>\n  </tbody>\n</table>\n</div>"
     },
     "metadata": {},
     "execution_count": 40
    }
   ],
   "source": [
    "ninth_graders = school_data_complete[school_data_complete['grade']==\"9th\"]\n",
    "tenth_graders = school_data_complete[school_data_complete['grade']==\"10th\"]\n",
    "eleventh_graders = school_data_complete[school_data_complete['grade']==\"11th\"]\n",
    "twelfth_graders = school_data_complete[school_data_complete['grade']==\"12th\"]\n",
    "\n",
    "grade_9_math = ninth_graders.groupby(\"school_name\").mean()['math_score']\n",
    "grade_10_math = tenth_graders.groupby(\"school_name\").mean()['math_score']\n",
    "grade_11_math = eleventh_graders.groupby(\"school_name\").mean()['math_score']\n",
    "grade_12_math = twelfth_graders.groupby(\"school_name\").mean()['math_score']\n",
    "\n",
    "math_scores_by_grade = pd.DataFrame({\"9th Grade\" : grade_9_math, \"10th Grade\": grade_10_math, \"11th Grade\": grade_11_math, \"12th Grade\": grade_12_math})\n",
    "math_scores_by_grade"
   ]
  },
  {
   "cell_type": "markdown",
   "metadata": {},
   "source": [
    "## Reading Score by Grade "
   ]
  },
  {
   "cell_type": "markdown",
   "metadata": {},
   "source": [
    "* Perform the same operations as above for reading scores"
   ]
  },
  {
   "cell_type": "code",
   "execution_count": 41,
   "metadata": {},
   "outputs": [
    {
     "output_type": "execute_result",
     "data": {
      "text/plain": [
       "                       9th Grade  10th Grade  11th Grade  12th Grade\n",
       "school_name                                                         \n",
       "Bailey High School         81.30       80.91       80.95       80.91\n",
       "Cabrera High School        83.68       84.25       83.79       84.29\n",
       "Figueroa High School       81.20       81.41       80.64       81.38\n",
       "Ford High School           80.63       81.26       80.40       80.66\n",
       "Griffin High School        83.37       83.71       84.29       84.01\n",
       "Hernandez High School      80.87       80.66       81.40       80.86\n",
       "Holden High School         83.68       83.32       83.82       84.70\n",
       "Huang High School          81.29       81.51       81.42       80.31\n",
       "Johnson High School        81.26       80.77       80.62       81.23\n",
       "Pena High School           83.81       83.61       84.34       84.59\n",
       "Rodriguez High School      80.99       80.63       80.86       80.38\n",
       "Shelton High School        84.12       83.44       84.37       82.78\n",
       "Thomas High School         83.73       84.25       83.59       83.83\n",
       "Wilson High School         83.94       84.02       83.76       84.32\n",
       "Wright High School         83.83       83.81       84.16       84.07"
      ],
      "text/html": "<div>\n<style scoped>\n    .dataframe tbody tr th:only-of-type {\n        vertical-align: middle;\n    }\n\n    .dataframe tbody tr th {\n        vertical-align: top;\n    }\n\n    .dataframe thead th {\n        text-align: right;\n    }\n</style>\n<table border=\"1\" class=\"dataframe\">\n  <thead>\n    <tr style=\"text-align: right;\">\n      <th></th>\n      <th>9th Grade</th>\n      <th>10th Grade</th>\n      <th>11th Grade</th>\n      <th>12th Grade</th>\n    </tr>\n    <tr>\n      <th>school_name</th>\n      <th></th>\n      <th></th>\n      <th></th>\n      <th></th>\n    </tr>\n  </thead>\n  <tbody>\n    <tr>\n      <th>Bailey High School</th>\n      <td>81.30</td>\n      <td>80.91</td>\n      <td>80.95</td>\n      <td>80.91</td>\n    </tr>\n    <tr>\n      <th>Cabrera High School</th>\n      <td>83.68</td>\n      <td>84.25</td>\n      <td>83.79</td>\n      <td>84.29</td>\n    </tr>\n    <tr>\n      <th>Figueroa High School</th>\n      <td>81.20</td>\n      <td>81.41</td>\n      <td>80.64</td>\n      <td>81.38</td>\n    </tr>\n    <tr>\n      <th>Ford High School</th>\n      <td>80.63</td>\n      <td>81.26</td>\n      <td>80.40</td>\n      <td>80.66</td>\n    </tr>\n    <tr>\n      <th>Griffin High School</th>\n      <td>83.37</td>\n      <td>83.71</td>\n      <td>84.29</td>\n      <td>84.01</td>\n    </tr>\n    <tr>\n      <th>Hernandez High School</th>\n      <td>80.87</td>\n      <td>80.66</td>\n      <td>81.40</td>\n      <td>80.86</td>\n    </tr>\n    <tr>\n      <th>Holden High School</th>\n      <td>83.68</td>\n      <td>83.32</td>\n      <td>83.82</td>\n      <td>84.70</td>\n    </tr>\n    <tr>\n      <th>Huang High School</th>\n      <td>81.29</td>\n      <td>81.51</td>\n      <td>81.42</td>\n      <td>80.31</td>\n    </tr>\n    <tr>\n      <th>Johnson High School</th>\n      <td>81.26</td>\n      <td>80.77</td>\n      <td>80.62</td>\n      <td>81.23</td>\n    </tr>\n    <tr>\n      <th>Pena High School</th>\n      <td>83.81</td>\n      <td>83.61</td>\n      <td>84.34</td>\n      <td>84.59</td>\n    </tr>\n    <tr>\n      <th>Rodriguez High School</th>\n      <td>80.99</td>\n      <td>80.63</td>\n      <td>80.86</td>\n      <td>80.38</td>\n    </tr>\n    <tr>\n      <th>Shelton High School</th>\n      <td>84.12</td>\n      <td>83.44</td>\n      <td>84.37</td>\n      <td>82.78</td>\n    </tr>\n    <tr>\n      <th>Thomas High School</th>\n      <td>83.73</td>\n      <td>84.25</td>\n      <td>83.59</td>\n      <td>83.83</td>\n    </tr>\n    <tr>\n      <th>Wilson High School</th>\n      <td>83.94</td>\n      <td>84.02</td>\n      <td>83.76</td>\n      <td>84.32</td>\n    </tr>\n    <tr>\n      <th>Wright High School</th>\n      <td>83.83</td>\n      <td>83.81</td>\n      <td>84.16</td>\n      <td>84.07</td>\n    </tr>\n  </tbody>\n</table>\n</div>"
     },
     "metadata": {},
     "execution_count": 41
    }
   ],
   "source": [
    "ninth_graders = school_data_complete[school_data_complete['grade']==\"9th\"]\n",
    "tenth_graders = school_data_complete[school_data_complete['grade']==\"10th\"]\n",
    "eleventh_graders = school_data_complete[school_data_complete['grade']==\"11th\"]\n",
    "twelfth_graders = school_data_complete[school_data_complete['grade']==\"12th\"]\n",
    "\n",
    "grade_9_reading = ninth_graders.groupby(\"school_name\").mean()['reading_score']\n",
    "grade_10_reading = tenth_graders.groupby(\"school_name\").mean()['reading_score']\n",
    "grade_11_reading = eleventh_graders.groupby(\"school_name\").mean()['reading_score']\n",
    "grade_12_reading = twelfth_graders.groupby(\"school_name\").mean()['reading_score']\n",
    "\n",
    "reading_scores_by_grade = pd.DataFrame({\"9th Grade\": grade_9_reading, \"10th Grade\" : grade_10_reading, \"11th Grade\": grade_11_reading, \"12th Grade\": grade_12_reading})\n",
    "reading_scores_by_grade"
   ]
  },
  {
   "cell_type": "markdown",
   "metadata": {},
   "source": [
    "## Scores by School Spending"
   ]
  },
  {
   "cell_type": "markdown",
   "metadata": {},
   "source": [
    "* Create a table that breaks down school performances based on average Spending Ranges (Per Student). Use 4 reasonable bins to group school spending. Include in the table each of the following:\n",
    "  * Average Math Score\n",
    "  * Average Reading Score\n",
    "  * % Passing Math\n",
    "  * % Passing Reading\n",
    "  * Overall Passing Rate (Average of the above two)"
   ]
  },
  {
   "cell_type": "code",
   "execution_count": 42,
   "metadata": {},
   "outputs": [
    {
     "output_type": "execute_result",
     "data": {
      "text/plain": [
       "                   Average Math Score  Average Reading Score  % Passing Math  \\\n",
       "Spent Per Student                                                              \n",
       "<$585                           83.46                  83.93           93.46   \n",
       "$585-630                        81.90                  83.16           87.13   \n",
       "$630-645                        78.52                  81.62           73.48   \n",
       "$645-680                        77.00                  81.03           66.16   \n",
       "\n",
       "                   % Passing Reading  \n",
       "Spent Per Student                     \n",
       "<$585                          96.61  \n",
       "$585-630                       92.72  \n",
       "$630-645                       84.87  \n",
       "$645-680                       80.49  "
      ],
      "text/html": "<div>\n<style scoped>\n    .dataframe tbody tr th:only-of-type {\n        vertical-align: middle;\n    }\n\n    .dataframe tbody tr th {\n        vertical-align: top;\n    }\n\n    .dataframe thead th {\n        text-align: right;\n    }\n</style>\n<table border=\"1\" class=\"dataframe\">\n  <thead>\n    <tr style=\"text-align: right;\">\n      <th></th>\n      <th>Average Math Score</th>\n      <th>Average Reading Score</th>\n      <th>% Passing Math</th>\n      <th>% Passing Reading</th>\n    </tr>\n    <tr>\n      <th>Spent Per Student</th>\n      <th></th>\n      <th></th>\n      <th></th>\n      <th></th>\n    </tr>\n  </thead>\n  <tbody>\n    <tr>\n      <th>&lt;$585</th>\n      <td>83.46</td>\n      <td>83.93</td>\n      <td>93.46</td>\n      <td>96.61</td>\n    </tr>\n    <tr>\n      <th>$585-630</th>\n      <td>81.90</td>\n      <td>83.16</td>\n      <td>87.13</td>\n      <td>92.72</td>\n    </tr>\n    <tr>\n      <th>$630-645</th>\n      <td>78.52</td>\n      <td>81.62</td>\n      <td>73.48</td>\n      <td>84.87</td>\n    </tr>\n    <tr>\n      <th>$645-680</th>\n      <td>77.00</td>\n      <td>81.03</td>\n      <td>66.16</td>\n      <td>80.49</td>\n    </tr>\n  </tbody>\n</table>\n</div>"
     },
     "metadata": {},
     "execution_count": 42
    }
   ],
   "source": [
    "bins = [0, 585, 630, 645, 680]\n",
    "group_names = [\"<$585\", \"$585-630\", \"$630-645\", \"$645-680\"]\n",
    "school_spending_df = school_overview_df\n",
    "school_spending_df[\"Spent Per Student\"] = pd.cut(Budget_per_student, bins, labels=group_names, right=False)\n",
    "school_spending_df\n",
    "spending_math_scores = school_spending_df.groupby([\"Spent Per Student\"]).mean()[\"Average Math Score\"]\n",
    "spending_reading_scores = school_spending_df.groupby([\"Spent Per Student\"]).mean()[\"Average Reading Score\"]\n",
    "spending_passing_math = school_spending_df.groupby([\"Spent Per Student\"]).mean()[\"% Passing Math\"]\n",
    "spending_passing_reading = school_spending_df.groupby([\"Spent Per Student\"]).mean()[\"% Passing Reading\"]\n",
    "\n",
    "spending_summary = pd.DataFrame({\"Average Math Score\" : spending_math_scores.round(2),\n",
    "                                 \"Average Reading Score\": spending_reading_scores.round(2),\n",
    "                                 \"% Passing Math\": spending_passing_math.round(2),\n",
    "                                 \"% Passing Reading\": spending_passing_reading.round(2),\n",
    "                                })\n",
    "spending_summary"
   ]
  },
  {
   "cell_type": "markdown",
   "metadata": {},
   "source": [
    "## Scores by School Size"
   ]
  },
  {
   "cell_type": "markdown",
   "metadata": {},
   "source": [
    "* Perform the same operations as above, based on school size."
   ]
  },
  {
   "cell_type": "code",
   "execution_count": 43,
   "metadata": {
    "scrolled": true
   },
   "outputs": [
    {
     "output_type": "execute_result",
     "data": {
      "text/plain": [
       "                    Average Math Score  Average Reading Score  % Passing Math  \\\n",
       "School Size                                                                     \n",
       "Small (<1000)                    83.82                  83.93           93.55   \n",
       "Medium (1000-2000)               83.37                  83.86           93.60   \n",
       "Large (2000-5000)                77.75                  81.34           69.96   \n",
       "\n",
       "                    % Passing Reading  \n",
       "School Size                            \n",
       "Small (<1000)                   96.10  \n",
       "Medium (1000-2000)              96.79  \n",
       "Large (2000-5000)               82.77  "
      ],
      "text/html": "<div>\n<style scoped>\n    .dataframe tbody tr th:only-of-type {\n        vertical-align: middle;\n    }\n\n    .dataframe tbody tr th {\n        vertical-align: top;\n    }\n\n    .dataframe thead th {\n        text-align: right;\n    }\n</style>\n<table border=\"1\" class=\"dataframe\">\n  <thead>\n    <tr style=\"text-align: right;\">\n      <th></th>\n      <th>Average Math Score</th>\n      <th>Average Reading Score</th>\n      <th>% Passing Math</th>\n      <th>% Passing Reading</th>\n    </tr>\n    <tr>\n      <th>School Size</th>\n      <th></th>\n      <th></th>\n      <th></th>\n      <th></th>\n    </tr>\n  </thead>\n  <tbody>\n    <tr>\n      <th>Small (&lt;1000)</th>\n      <td>83.82</td>\n      <td>83.93</td>\n      <td>93.55</td>\n      <td>96.10</td>\n    </tr>\n    <tr>\n      <th>Medium (1000-2000)</th>\n      <td>83.37</td>\n      <td>83.86</td>\n      <td>93.60</td>\n      <td>96.79</td>\n    </tr>\n    <tr>\n      <th>Large (2000-5000)</th>\n      <td>77.75</td>\n      <td>81.34</td>\n      <td>69.96</td>\n      <td>82.77</td>\n    </tr>\n  </tbody>\n</table>\n</div>"
     },
     "metadata": {},
     "execution_count": 43
    }
   ],
   "source": [
    "size_bins = [0, 1000, 2000, 5000]\n",
    "group_names = [\"Small (<1000)\", \"Medium (1000-2000)\", \"Large (2000-5000)\"]\n",
    "per_school_summary = school_overview_df\n",
    "\n",
    "per_school_summary[\"School Size\"] = pd.cut(per_school_summary[\"Total Students\"], size_bins, labels=group_names, right=False)\n",
    "per_school_summary\n",
    "\n",
    "size_math_scores = per_school_summary.groupby([\"School Size\"]).mean()[\"Average Math Score\"]\n",
    "size_reading_scores = per_school_summary.groupby([\"School Size\"]).mean()[\"Average Reading Score\"]\n",
    "size_passing_math = per_school_summary.groupby([\"School Size\"]).mean()[\"% Passing Math\"]\n",
    "size_passing_reading = per_school_summary.groupby([\"School Size\"]).mean()[\"% Passing Reading\"]\n",
    "\n",
    "size_summary = pd.DataFrame({\"Average Math Score\" : size_math_scores,\n",
    "                             \"Average Reading Score\": size_reading_scores,\n",
    "                             \"% Passing Math\": size_passing_math,\n",
    "                             \"% Passing Reading\": size_passing_reading})\n",
    "\n",
    "size_summary    "
   ]
  },
  {
   "cell_type": "markdown",
   "metadata": {},
   "source": [
    "## Scores by School Type"
   ]
  },
  {
   "cell_type": "markdown",
   "metadata": {},
   "source": [
    "* Perform the same operations as above, based on school type"
   ]
  },
  {
   "cell_type": "code",
   "execution_count": 56,
   "metadata": {},
   "outputs": [
    {
     "output_type": "error",
     "ename": "KeyError",
     "evalue": "'School Type'",
     "traceback": [
      "\u001b[1;31m---------------------------------------------------------------------------\u001b[0m",
      "\u001b[1;31mKeyError\u001b[0m                                  Traceback (most recent call last)",
      "\u001b[1;32m<ipython-input-56-b8e616198b55>\u001b[0m in \u001b[0;36m<module>\u001b[1;34m\u001b[0m\n\u001b[1;32m----> 1\u001b[1;33m \u001b[0mtype_math_scores\u001b[0m \u001b[1;33m=\u001b[0m \u001b[0mschool_data_complete\u001b[0m\u001b[1;33m.\u001b[0m\u001b[0mgroupby\u001b[0m\u001b[1;33m(\u001b[0m\u001b[1;33m[\u001b[0m\u001b[1;34m\"School Type\"\u001b[0m\u001b[1;33m]\u001b[0m\u001b[1;33m)\u001b[0m\u001b[1;33m.\u001b[0m\u001b[0mmean\u001b[0m\u001b[1;33m(\u001b[0m\u001b[1;33m)\u001b[0m\u001b[1;33m[\u001b[0m\u001b[1;34m\"Average Math Score\"\u001b[0m\u001b[1;33m]\u001b[0m\u001b[1;33m\u001b[0m\u001b[1;33m\u001b[0m\u001b[0m\n\u001b[0m\u001b[0;32m      2\u001b[0m \u001b[0mtype_reading_scores\u001b[0m \u001b[1;33m=\u001b[0m \u001b[0mschool_data_complete\u001b[0m\u001b[1;33m.\u001b[0m\u001b[0mgroupby\u001b[0m\u001b[1;33m(\u001b[0m\u001b[1;33m[\u001b[0m\u001b[1;34m\"School Type\"\u001b[0m\u001b[1;33m]\u001b[0m\u001b[1;33m)\u001b[0m\u001b[1;33m.\u001b[0m\u001b[0mmean\u001b[0m\u001b[1;33m(\u001b[0m\u001b[1;33m)\u001b[0m\u001b[1;33m[\u001b[0m\u001b[1;34m\"Average Reading Score\"\u001b[0m\u001b[1;33m]\u001b[0m\u001b[1;33m\u001b[0m\u001b[1;33m\u001b[0m\u001b[0m\n\u001b[0;32m      3\u001b[0m \u001b[0mtype_passing_math\u001b[0m \u001b[1;33m=\u001b[0m \u001b[0mschool_data_complete\u001b[0m\u001b[1;33m.\u001b[0m\u001b[0mgroupby\u001b[0m\u001b[1;33m(\u001b[0m\u001b[1;33m[\u001b[0m\u001b[1;34m\"School Type\"\u001b[0m\u001b[1;33m]\u001b[0m\u001b[1;33m)\u001b[0m\u001b[1;33m.\u001b[0m\u001b[0mmean\u001b[0m\u001b[1;33m(\u001b[0m\u001b[1;33m)\u001b[0m\u001b[1;33m[\u001b[0m\u001b[1;34m\"% Passing Math\"\u001b[0m\u001b[1;33m]\u001b[0m\u001b[1;33m\u001b[0m\u001b[1;33m\u001b[0m\u001b[0m\n\u001b[0;32m      4\u001b[0m \u001b[0mtype_passing_reading\u001b[0m \u001b[1;33m=\u001b[0m \u001b[0mschool_data_complete\u001b[0m\u001b[1;33m.\u001b[0m\u001b[0mgroupby\u001b[0m\u001b[1;33m(\u001b[0m\u001b[1;33m[\u001b[0m\u001b[1;34m\"School Type\"\u001b[0m\u001b[1;33m]\u001b[0m\u001b[1;33m)\u001b[0m\u001b[1;33m.\u001b[0m\u001b[0mmean\u001b[0m\u001b[1;33m(\u001b[0m\u001b[1;33m)\u001b[0m\u001b[1;33m[\u001b[0m\u001b[1;34m\"% Passing Reading\"\u001b[0m\u001b[1;33m]\u001b[0m\u001b[1;33m\u001b[0m\u001b[1;33m\u001b[0m\u001b[0m\n\u001b[0;32m      5\u001b[0m \u001b[1;33m\u001b[0m\u001b[0m\n",
      "\u001b[1;32m~\\anaconda3\\lib\\site-packages\\pandas\\core\\frame.py\u001b[0m in \u001b[0;36mgroupby\u001b[1;34m(self, by, axis, level, as_index, sort, group_keys, squeeze, observed, dropna)\u001b[0m\n\u001b[0;32m   6509\u001b[0m         \u001b[0maxis\u001b[0m \u001b[1;33m=\u001b[0m \u001b[0mself\u001b[0m\u001b[1;33m.\u001b[0m\u001b[0m_get_axis_number\u001b[0m\u001b[1;33m(\u001b[0m\u001b[0maxis\u001b[0m\u001b[1;33m)\u001b[0m\u001b[1;33m\u001b[0m\u001b[1;33m\u001b[0m\u001b[0m\n\u001b[0;32m   6510\u001b[0m \u001b[1;33m\u001b[0m\u001b[0m\n\u001b[1;32m-> 6511\u001b[1;33m         return DataFrameGroupBy(\n\u001b[0m\u001b[0;32m   6512\u001b[0m             \u001b[0mobj\u001b[0m\u001b[1;33m=\u001b[0m\u001b[0mself\u001b[0m\u001b[1;33m,\u001b[0m\u001b[1;33m\u001b[0m\u001b[1;33m\u001b[0m\u001b[0m\n\u001b[0;32m   6513\u001b[0m             \u001b[0mkeys\u001b[0m\u001b[1;33m=\u001b[0m\u001b[0mby\u001b[0m\u001b[1;33m,\u001b[0m\u001b[1;33m\u001b[0m\u001b[1;33m\u001b[0m\u001b[0m\n",
      "\u001b[1;32m~\\anaconda3\\lib\\site-packages\\pandas\\core\\groupby\\groupby.py\u001b[0m in \u001b[0;36m__init__\u001b[1;34m(self, obj, keys, axis, level, grouper, exclusions, selection, as_index, sort, group_keys, squeeze, observed, mutated, dropna)\u001b[0m\n\u001b[0;32m    523\u001b[0m             \u001b[1;32mfrom\u001b[0m \u001b[0mpandas\u001b[0m\u001b[1;33m.\u001b[0m\u001b[0mcore\u001b[0m\u001b[1;33m.\u001b[0m\u001b[0mgroupby\u001b[0m\u001b[1;33m.\u001b[0m\u001b[0mgrouper\u001b[0m \u001b[1;32mimport\u001b[0m \u001b[0mget_grouper\u001b[0m\u001b[1;33m\u001b[0m\u001b[1;33m\u001b[0m\u001b[0m\n\u001b[0;32m    524\u001b[0m \u001b[1;33m\u001b[0m\u001b[0m\n\u001b[1;32m--> 525\u001b[1;33m             grouper, exclusions, obj = get_grouper(\n\u001b[0m\u001b[0;32m    526\u001b[0m                 \u001b[0mobj\u001b[0m\u001b[1;33m,\u001b[0m\u001b[1;33m\u001b[0m\u001b[1;33m\u001b[0m\u001b[0m\n\u001b[0;32m    527\u001b[0m                 \u001b[0mkeys\u001b[0m\u001b[1;33m,\u001b[0m\u001b[1;33m\u001b[0m\u001b[1;33m\u001b[0m\u001b[0m\n",
      "\u001b[1;32m~\\anaconda3\\lib\\site-packages\\pandas\\core\\groupby\\grouper.py\u001b[0m in \u001b[0;36mget_grouper\u001b[1;34m(obj, key, axis, level, sort, observed, mutated, validate, dropna)\u001b[0m\n\u001b[0;32m    779\u001b[0m                 \u001b[0min_axis\u001b[0m\u001b[1;33m,\u001b[0m \u001b[0mname\u001b[0m\u001b[1;33m,\u001b[0m \u001b[0mlevel\u001b[0m\u001b[1;33m,\u001b[0m \u001b[0mgpr\u001b[0m \u001b[1;33m=\u001b[0m \u001b[1;32mFalse\u001b[0m\u001b[1;33m,\u001b[0m \u001b[1;32mNone\u001b[0m\u001b[1;33m,\u001b[0m \u001b[0mgpr\u001b[0m\u001b[1;33m,\u001b[0m \u001b[1;32mNone\u001b[0m\u001b[1;33m\u001b[0m\u001b[1;33m\u001b[0m\u001b[0m\n\u001b[0;32m    780\u001b[0m             \u001b[1;32melse\u001b[0m\u001b[1;33m:\u001b[0m\u001b[1;33m\u001b[0m\u001b[1;33m\u001b[0m\u001b[0m\n\u001b[1;32m--> 781\u001b[1;33m                 \u001b[1;32mraise\u001b[0m \u001b[0mKeyError\u001b[0m\u001b[1;33m(\u001b[0m\u001b[0mgpr\u001b[0m\u001b[1;33m)\u001b[0m\u001b[1;33m\u001b[0m\u001b[1;33m\u001b[0m\u001b[0m\n\u001b[0m\u001b[0;32m    782\u001b[0m         \u001b[1;32melif\u001b[0m \u001b[0misinstance\u001b[0m\u001b[1;33m(\u001b[0m\u001b[0mgpr\u001b[0m\u001b[1;33m,\u001b[0m \u001b[0mGrouper\u001b[0m\u001b[1;33m)\u001b[0m \u001b[1;32mand\u001b[0m \u001b[0mgpr\u001b[0m\u001b[1;33m.\u001b[0m\u001b[0mkey\u001b[0m \u001b[1;32mis\u001b[0m \u001b[1;32mnot\u001b[0m \u001b[1;32mNone\u001b[0m\u001b[1;33m:\u001b[0m\u001b[1;33m\u001b[0m\u001b[1;33m\u001b[0m\u001b[0m\n\u001b[0;32m    783\u001b[0m             \u001b[1;31m# Add key to exclusions\u001b[0m\u001b[1;33m\u001b[0m\u001b[1;33m\u001b[0m\u001b[1;33m\u001b[0m\u001b[0m\n",
      "\u001b[1;31mKeyError\u001b[0m: 'School Type'"
     ]
    }
   ],
   "source": [
    "type_math_scores = school_data_complete.groupby([\"School Type\"]).mean()[\"Average Math Score\"]\n",
    "type_reading_scores = school_data_complete.groupby([\"School Type\"]).mean()[\"Average Reading Score\"]\n",
    "type_passing_math = school_data_complete.groupby([\"School Type\"]).mean()[\"% Passing Math\"]\n",
    "type_passing_reading = school_data_complete.groupby([\"School Type\"]).mean()[\"% Passing Reading\"]\n",
    "\n",
    "\n",
    "type_summary = pd.DataFrame({\"Average Math Score\" : type_math_scores,\n",
    "                             \"Average Reading Score\": type_reading_scores,\n",
    "                             \"% Passing Math\": type_passing_math,\n",
    "                             \"% Passing Reading\": type_passing_reading})\n",
    "\n",
    "\n",
    "type_summary"
   ]
  },
  {
   "cell_type": "code",
   "execution_count": null,
   "metadata": {},
   "outputs": [],
   "source": []
  }
 ],
 "metadata": {
  "anaconda-cloud": {},
  "kernel_info": {
   "name": "python3"
  },
  "kernelspec": {
   "name": "python385jvsc74a57bd0c505dcf719050dce0dcfc10ad1984dc5b3111489d0d599f1fd7347fcd39f7ef8",
   "display_name": "Python 3.8.5 64-bit (conda)"
  },
  "language_info": {
   "codemirror_mode": {
    "name": "ipython",
    "version": 3
   },
   "file_extension": ".py",
   "mimetype": "text/x-python",
   "name": "python",
   "nbconvert_exporter": "python",
   "pygments_lexer": "ipython3",
   "version": "3.8.5"
  },
  "latex_envs": {
   "LaTeX_envs_menu_present": true,
   "autoclose": false,
   "autocomplete": true,
   "bibliofile": "biblio.bib",
   "cite_by": "apalike",
   "current_citInitial": 1,
   "eqLabelWithNumbers": true,
   "eqNumInitial": 1,
   "hotkeys": {
    "equation": "Ctrl-E",
    "itemize": "Ctrl-I"
   },
   "labels_anchors": false,
   "latex_user_defs": false,
   "report_style_numbering": false,
   "user_envs_cfg": false
  },
  "nteract": {
   "version": "0.8.4"
  }
 },
 "nbformat": 4,
 "nbformat_minor": 1
}